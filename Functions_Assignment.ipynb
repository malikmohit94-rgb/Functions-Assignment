{
  "nbformat": 4,
  "nbformat_minor": 0,
  "metadata": {
    "colab": {
      "provenance": []
    },
    "kernelspec": {
      "name": "python3",
      "display_name": "Python 3"
    },
    "language_info": {
      "name": "python"
    }
  },
  "cells": [
    {
      "cell_type": "markdown",
      "source": [
        " What is the difference between a function and a method in Python"
      ],
      "metadata": {
        "id": "6Uiq6KUYHtUA"
      }
    },
    {
      "cell_type": "markdown",
      "source": [
        "Ans. A functions code for specific task , function can take arguments optionally as return value,\n",
        "\n",
        "A method define inside a class it is associated with an object. a method defination include 'self' as perameter."
      ],
      "metadata": {
        "id": "ok34nUMUH2do"
      }
    },
    {
      "cell_type": "markdown",
      "source": [
        "2.  Explain the concept of function arguments and parameters in Python"
      ],
      "metadata": {
        "id": "n1pkNIBKJpZx"
      }
    },
    {
      "cell_type": "markdown",
      "source": [
        "Ans. function concept are define in the parentheses, provinding value or expressions.\n",
        "\n",
        "example.\n",
        "\n",
        "greet('welcome')\n",
        "\n",
        "parameters are inside the list to define the value and using as 'f' string for output"
      ],
      "metadata": {
        "id": "3tBfQM4FJwV2"
      }
    },
    {
      "cell_type": "markdown",
      "source": [
        "3. What are the different ways to define and call a function in Python"
      ],
      "metadata": {
        "id": "cVhrk0oPLv1G"
      }
    },
    {
      "cell_type": "markdown",
      "source": [
        "Ans. To call a function  define type the name of funtion and parentheses()\n",
        "      that can take any argument covered with parentheses.\n",
        "\n",
        "      Calling funtion with aruments ()\n",
        "      calling funtions without aruments ()\n",
        "      \n"
      ],
      "metadata": {
        "id": "a5upxvHcMVVm"
      }
    },
    {
      "cell_type": "markdown",
      "source": [
        "4.  What is the purpose of the `return` statement in a Python function"
      ],
      "metadata": {
        "id": "qczlYUXIOE1w"
      }
    },
    {
      "cell_type": "markdown",
      "source": [
        "Ans. return value has defult and multiple value\n",
        "\n",
        "     if use the return use without value function return the special value.\n",
        "     A function can return multiple value by listing the return keyword , separated by comma."
      ],
      "metadata": {
        "id": "ijVbQPenOQbF"
      }
    },
    {
      "cell_type": "markdown",
      "source": [
        "5. What are iterators in Python and how do they differ from iterables"
      ],
      "metadata": {
        "id": "9s_jj7GYQE7P"
      }
    },
    {
      "cell_type": "markdown",
      "source": [
        "Ans. 5 return the object in sequence called iterator, it's keep track object it self and define in _iter_ object."
      ],
      "metadata": {
        "id": "2pOj5HAYQvBt"
      }
    },
    {
      "cell_type": "markdown",
      "source": [
        "6. Explain the concept of generators in Python and how they are defined"
      ],
      "metadata": {
        "id": "x8B7Zv9qS_tD"
      }
    },
    {
      "cell_type": "markdown",
      "source": [
        "Ans. It is similer to return function , for genrator yield statement using for functions. output-> return a single item and  yield control back to the caller."
      ],
      "metadata": {
        "id": "DNv_Y-b_Us5J"
      }
    },
    {
      "cell_type": "markdown",
      "source": [
        "7. What are the advantages of using generators over regular functions"
      ],
      "metadata": {
        "id": "vg-FI86oVl__"
      }
    },
    {
      "cell_type": "markdown",
      "source": [
        "Ans. when you have largest data set might not fit in memory\n",
        "     using with infinite sequence, you only need iterate over sequence.\n",
        "     "
      ],
      "metadata": {
        "id": "KIjIu4_UVnE7"
      }
    },
    {
      "cell_type": "markdown",
      "source": [
        "8. What is a lambda function in Python and when is it typically used"
      ],
      "metadata": {
        "id": "oQfkatRbWSeS"
      }
    },
    {
      "cell_type": "markdown",
      "source": [
        "Ans. lambda function is anonymos function define keyword, and it is single line code not required any name regualer function.\n",
        "\n",
        "lambda function  used when requied single expression when argument higer order function , map, filter,reduce"
      ],
      "metadata": {
        "id": "kcfl3Cx-WWIR"
      }
    },
    {
      "cell_type": "markdown",
      "source": [
        "9.Explain the purpose and usage of the `map()` function in Python"
      ],
      "metadata": {
        "id": "WNJsk2e54YhP"
      }
    },
    {
      "cell_type": "markdown",
      "source": [
        "Ans. map function used for iterate the itrables, to avoid loop can be use case map, it provide cleaner and more direct an opration to apply elements in sequence."
      ],
      "metadata": {
        "id": "XkkUv4zc4axU"
      }
    },
    {
      "cell_type": "markdown",
      "source": [
        "10. What is the difference between `map()`, `reduce()`, and `filter()` functions in Python"
      ],
      "metadata": {
        "id": "gDwdi76o59r-"
      }
    },
    {
      "cell_type": "markdown",
      "source": [
        "Ans. map used for every item of an iterable and return a new itertor.\n",
        "\n",
        "     filter used for check the conditions and filter the postion in return  value check condition true or false.\n",
        "\n",
        "     reduce must import funtool module to the iterable from left to right."
      ],
      "metadata": {
        "id": "cWV-TlPM6Btm"
      }
    },
    {
      "cell_type": "markdown",
      "source": [
        "11. Using pen & Paper write the internal mechanism for sum operation using  reduce function on this given\n",
        "list:[47,11,42,13];"
      ],
      "metadata": {
        "id": "oxgrt0f3-9YE"
      }
    },
    {
      "cell_type": "markdown",
      "source": [],
      "metadata": {
        "id": "kX6dQ5awBp0k"
      }
    },
    {
      "cell_type": "markdown",
      "source": [
        "**Practical Questions:**"
      ],
      "metadata": {
        "id": "7jTujqhWDZiq"
      }
    },
    {
      "cell_type": "markdown",
      "source": [
        "1. Write a Python function that takes a list of numbers as input and returns the sum of all even numbers in\n",
        "the list"
      ],
      "metadata": {
        "id": "02a2S21hDgkr"
      }
    },
    {
      "cell_type": "code",
      "source": [
        "list1=[1,2,3,4,5,6,7,8,9,10,11,12,13,14,15]\n"
      ],
      "metadata": {
        "id": "KWRKEO45DofB"
      },
      "execution_count": null,
      "outputs": []
    },
    {
      "cell_type": "code",
      "source": [
        "def sum_even (list1):\n",
        "\n",
        "  sum_number=0\n",
        "\n",
        "  for num in list1:\n",
        "    if num % 2 == 0:\n",
        "      sum_number += num\n",
        "  return sum_number\n"
      ],
      "metadata": {
        "id": "bZdD7vVfKriq"
      },
      "execution_count": null,
      "outputs": []
    },
    {
      "cell_type": "code",
      "source": [
        "print(sum_even(list1))"
      ],
      "metadata": {
        "colab": {
          "base_uri": "https://localhost:8080/"
        },
        "id": "l6KKlNmoNbUk",
        "outputId": "0efbe8fa-e51c-49a1-9cff-005cd55e2204"
      },
      "execution_count": null,
      "outputs": [
        {
          "output_type": "stream",
          "name": "stdout",
          "text": [
            "56\n"
          ]
        }
      ]
    },
    {
      "cell_type": "markdown",
      "source": [
        "2. Create a Python function that accepts a string and returns the reverse of that string"
      ],
      "metadata": {
        "id": "uG6Tzla-6Ce5"
      }
    },
    {
      "cell_type": "code",
      "source": [
        "py_string='good morning'\n",
        "\n",
        "def reverse_string(py_string):\n",
        "  return py_string[::-1]\n",
        "\n",
        "print(reverse_string(py_string))\n",
        "\n"
      ],
      "metadata": {
        "colab": {
          "base_uri": "https://localhost:8080/"
        },
        "id": "-I_Fguo86FBB",
        "outputId": "a3072a38-5e83-41ec-f13d-a6f0e120d432"
      },
      "execution_count": null,
      "outputs": [
        {
          "output_type": "stream",
          "name": "stdout",
          "text": [
            "gninrom doog\n"
          ]
        }
      ]
    },
    {
      "cell_type": "markdown",
      "source": [
        "3.  Implement a Python function that takes a list of integers and returns a new list containing the squares of\n",
        "each number"
      ],
      "metadata": {
        "id": "q2AQIXpg6mwh"
      }
    },
    {
      "cell_type": "code",
      "source": [
        "list2=[2,4,6,8,10]\n",
        "\n",
        "def num_square(list2):\n",
        "  return [num**2 for num in list2]\n",
        "\n",
        "print(num_square(list2))"
      ],
      "metadata": {
        "colab": {
          "base_uri": "https://localhost:8080/"
        },
        "id": "7pr1XscW6pPI",
        "outputId": "1466fa70-cc50-4ee2-9bc7-488579ca3335"
      },
      "execution_count": null,
      "outputs": [
        {
          "output_type": "stream",
          "name": "stdout",
          "text": [
            "[4, 16, 36, 64, 100]\n"
          ]
        }
      ]
    },
    {
      "cell_type": "markdown",
      "source": [
        "4. Write a Python function that checks if a given number is prime or not from 1 to 200"
      ],
      "metadata": {
        "id": "ey2x1zze8Dq5"
      }
    },
    {
      "cell_type": "code",
      "source": [
        "def is_prime(num):\n",
        "  for i in range (1,200):\n",
        "    if i > 1:\n",
        "      return True\n",
        "    else:\n",
        "      return False\n",
        "  print(is_prime(5))\n",
        "\n",
        "\n",
        "\n"
      ],
      "metadata": {
        "id": "kahJO22i8HaY"
      },
      "execution_count": 10,
      "outputs": []
    },
    {
      "cell_type": "markdown",
      "source": [
        "5.  Create an iterator class in Python that generates the Fibonacci sequence up to a specified number of\n",
        "terms"
      ],
      "metadata": {
        "id": "aKuu6SBk90UZ"
      }
    },
    {
      "cell_type": "code",
      "source": [
        " I have check but no idea how to do it."
      ],
      "metadata": {
        "id": "ar0drnA7926f"
      },
      "execution_count": null,
      "outputs": []
    },
    {
      "cell_type": "markdown",
      "source": [
        "6.  Write a generator function in Python that yields the powers of 2 up to a given exponent\n",
        "\n"
      ],
      "metadata": {
        "id": "_mjBulqO0vsv"
      }
    },
    {
      "cell_type": "code",
      "source": [
        " I have check but no idea how to do it."
      ],
      "metadata": {
        "id": "cBQ9fpzm01i_"
      },
      "execution_count": null,
      "outputs": []
    },
    {
      "cell_type": "markdown",
      "source": [
        "7.  Implement a generator function that reads a file line by line and yields each line as a string"
      ],
      "metadata": {
        "id": "5pJ-fFDu1DCO"
      }
    },
    {
      "cell_type": "code",
      "source": [
        " I have check but no idea how to do it."
      ],
      "metadata": {
        "id": "C_gjtAvh1Gd_"
      },
      "execution_count": null,
      "outputs": []
    },
    {
      "cell_type": "markdown",
      "source": [
        "8.  Use a lambda function in Python to sort a list of tuples based on the second element of each tuple"
      ],
      "metadata": {
        "id": "gog8h1Q11JIO"
      }
    },
    {
      "cell_type": "code",
      "source": [
        "students=[('rohit' , 10) , ('shyam', 20 ) , ('keshav' , 30)]\n",
        "\n",
        "student = list(map(lambda x: x[1] , students))\n",
        "print(student)\n",
        "\n"
      ],
      "metadata": {
        "colab": {
          "base_uri": "https://localhost:8080/"
        },
        "id": "UlEV6Sxq1Mew",
        "outputId": "f9516bcd-4050-406f-d041-2d3453563e19"
      },
      "execution_count": 18,
      "outputs": [
        {
          "output_type": "stream",
          "name": "stdout",
          "text": [
            "[10, 20, 30]\n"
          ]
        }
      ]
    },
    {
      "cell_type": "markdown",
      "source": [
        "9. Write a Python program that uses `map()` to convert a list of temperatures from Celsius to Fahrenheit"
      ],
      "metadata": {
        "id": "7LRustxJ3lag"
      }
    },
    {
      "cell_type": "code",
      "source": [
        "celsius=[30]\n",
        "\n",
        "ferhrenheit= list(map(lambda x: (x * 9/5) + 32 , celsius))\n",
        "print(ferhrenheit)\n",
        "\n"
      ],
      "metadata": {
        "colab": {
          "base_uri": "https://localhost:8080/"
        },
        "id": "tTIqsdKk3sVg",
        "outputId": "d758fe10-192b-4ac0-82fd-0cb917741c08"
      },
      "execution_count": 3,
      "outputs": [
        {
          "output_type": "stream",
          "name": "stdout",
          "text": [
            "[86.0]\n"
          ]
        }
      ]
    },
    {
      "cell_type": "markdown",
      "source": [
        "10.  Create a Python program that uses `filter()` to remove all the vowels from a given string."
      ],
      "metadata": {
        "id": "lNhXIGxI7Yu0"
      }
    },
    {
      "cell_type": "code",
      "source": [
        "name  = 'good morning'\n",
        "\n",
        "string_1= list(filter(lambda x: x not in 'aeiou' , name))\n",
        "print(string_1)\n",
        "\n",
        "\n"
      ],
      "metadata": {
        "colab": {
          "base_uri": "https://localhost:8080/"
        },
        "id": "66SD5J9A7daD",
        "outputId": "c6f8d1bd-135c-44c6-aed1-329d2c2b258b"
      },
      "execution_count": 6,
      "outputs": [
        {
          "output_type": "stream",
          "name": "stdout",
          "text": [
            "['g', 'd', ' ', 'm', 'r', 'n', 'n', 'g']\n"
          ]
        }
      ]
    },
    {
      "cell_type": "markdown",
      "source": [],
      "metadata": {
        "id": "5Vku-Nq575kc"
      }
    }
  ]
}